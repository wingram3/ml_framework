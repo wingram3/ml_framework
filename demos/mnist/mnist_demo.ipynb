{
 "cells": [
  {
   "cell_type": "code",
   "execution_count": 1,
   "id": "9aae153f-5fef-4f5e-b84c-fce1b15df3cd",
   "metadata": {},
   "outputs": [],
   "source": [
    "import numpy as np\n",
    "from keras.datasets import mnist\n",
    "from deepteddy import activations, costs, layers, network, optimizers, utils\n",
    "from importlib import reload\n",
    "from PIL import Image"
   ]
  },
  {
   "cell_type": "code",
   "execution_count": 2,
   "id": "d1205577-e0c0-47f5-b3e7-08744b1a1523",
   "metadata": {},
   "outputs": [],
   "source": [
    "reload(network)\n",
    "np.random.seed(1)\n",
    "\n",
    "# Load data\n",
    "(train_x, train_y), (test_x, test_y) = mnist.load_data()\n",
    "\n",
    "# Flatten, normalize, and reshape data for model\n",
    "train_x = np.asarray(train_x.reshape(train_x.shape[0], -1) / 255).T\n",
    "test_x = np.asarray(test_x.reshape(test_x.shape[0], -1) / 255).T\n",
    "train_y = utils.one_hot(train_y, num_classes=10).T\n",
    "test_y = utils.one_hot(test_y, num_classes=10).T"
   ]
  },
  {
   "cell_type": "code",
   "execution_count": 3,
   "id": "8757449e-0e92-4e80-bff4-8a9ac9920adc",
   "metadata": {},
   "outputs": [
    {
     "name": "stdout",
     "output_type": "stream",
     "text": [
      "Cost of epoch 2: 0.18759\n",
      "Cost of epoch 4: 0.00745\n",
      "Cost of epoch 6: 0.16168\n",
      "Cost of epoch 8: 0.09434\n",
      "Cost of epoch 10: 0.01683\n",
      "Cost of epoch 12: 0.00069\n",
      "Cost of epoch 14: 4e-05\n",
      "Cost of epoch 16: 0.00244\n",
      "Cost of epoch 18: 0.01406\n",
      "Cost of epoch 20: 3e-05\n",
      "Cost of epoch 22: 4e-05\n",
      "Cost of epoch 24: 0.00077\n",
      "+------------+------------+\n",
      "| Layer Type | Parameters |\n",
      "+------------+------------+\n",
      "|   Dense    |   157000   |\n",
      "|   Dense    |    2010    |\n",
      "+------------+------------+\n",
      "Total Parameters: 159010\n"
     ]
    },
    {
     "data": {
      "text/plain": [
       "159010"
      ]
     },
     "execution_count": 3,
     "metadata": {},
     "output_type": "execute_result"
    }
   ],
   "source": [
    "# create NN\n",
    "digits = network.Network()\n",
    "digits.add_layer(layers.Dense(num_nodes=200, activation=activations.ReLU()))\n",
    "digits.add_layer(layers.Dense(num_nodes=train_y.shape[0], activation=activations.Sigmoid()))\n",
    "\n",
    "# configure\n",
    "digits.configure_network(\n",
    "    input_layer_size=train_x.shape[0],\n",
    "    cost_func=costs.CategoricalCrossEntropy(),\n",
    "    optimizer=optimizers.Adam(),\n",
    ")\n",
    "\n",
    "# train\n",
    "digits.train(train_x, train_y, learning_rate=0.001, epochs=24, minibatch_size=16, verbose=True)\n",
    "\n",
    "# save parameters to json file\n",
    "digits.write_parameters(name='mnist_demo_params.json', dir='')\n",
    "\n",
    "# summary\n",
    "digits.network_summary()"
   ]
  },
  {
   "cell_type": "code",
   "execution_count": 4,
   "id": "c406b3d3-8933-4eb6-8ef2-1f85316d742a",
   "metadata": {},
   "outputs": [
    {
     "name": "stdout",
     "output_type": "stream",
     "text": [
      "\n",
      "Training Accuracy: 0.9959833333333333\n",
      "Testing Accuracy: 0.984\n",
      "Handwritten Image Prediction:  8\n"
     ]
    }
   ],
   "source": [
    "# accuracy\n",
    "pred_train = digits.predict(train_x)\n",
    "print('\\nTraining Accuracy:', utils.evaluate_accuracy(pred_train, train_y))\n",
    "pred_test = digits.predict(test_x)\n",
    "print('Testing Accuracy:', utils.evaluate_accuracy(pred_test, test_y))\n",
    "\n",
    "# try a picture of a digit from the digit_pics folder\n",
    "new_number = Image.open('digit_pics/eight.jpeg').convert('L')\n",
    "new_number = (np.array(new_number).reshape(1, -1) / 255).T\n",
    "pred_num = digits.predict(new_number)\n",
    "print('Handwritten Image Prediction: ', utils.argmax(pred_num))"
   ]
  }
 ],
 "metadata": {
  "kernelspec": {
   "display_name": "Python 3 (ipykernel)",
   "language": "python",
   "name": "python3"
  },
  "language_info": {
   "codemirror_mode": {
    "name": "ipython",
    "version": 3
   },
   "file_extension": ".py",
   "mimetype": "text/x-python",
   "name": "python",
   "nbconvert_exporter": "python",
   "pygments_lexer": "ipython3",
   "version": "3.12.1"
  }
 },
 "nbformat": 4,
 "nbformat_minor": 5
}
