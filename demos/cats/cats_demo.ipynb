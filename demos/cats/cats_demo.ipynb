{
 "cells": [
  {
   "cell_type": "code",
   "execution_count": 1,
   "id": "4e985c14-f072-4d9b-b55c-5ad79d6a009f",
   "metadata": {},
   "outputs": [],
   "source": [
    "import numpy as np\n",
    "from deepteddy import activations, costs, layers, network, optimizers, regularizers, utils\n",
    "from importlib import reload\n",
    "from h5py import File"
   ]
  },
  {
   "cell_type": "code",
   "execution_count": 2,
   "id": "1f87fd8a-593d-4ac2-80a5-65e5c4a96249",
   "metadata": {},
   "outputs": [],
   "source": [
    "reload(network)\n",
    "np.random.seed(0)\n",
    "\n",
    "# load cat data\n",
    "train_dataset = File('datasets/train_catvnoncat.h5', 'r')\n",
    "train_x = np.array(train_dataset['train_set_x'][:]) # Train set features\n",
    "train_y = np.array(train_dataset['train_set_y'][:]) # Train set labels\n",
    "\n",
    "test_dataset = File('datasets/test_catvnoncat.h5', 'r')\n",
    "test_x = np.array(test_dataset['test_set_x'][:]) # Test set features\n",
    "test_y = np.array(test_dataset['test_set_y'][:]) # Test set labels\n",
    "\n",
    "train_y = train_y.reshape((train_y.shape[0], 1)).T\n",
    "test_y = test_y.reshape((test_y.shape[0], 1)).T\n",
    "\n",
    "# Flatten and normalize\n",
    "train_x = (train_x.reshape(train_x.shape[0], -1) / 255).T\n",
    "test_x = (test_x.reshape(test_x.shape[0], -1) / 255).T"
   ]
  },
  {
   "cell_type": "code",
   "execution_count": 3,
   "id": "a534b7fc-175c-4fa9-a800-df90ef3dc84b",
   "metadata": {},
   "outputs": [
    {
     "name": "stdout",
     "output_type": "stream",
     "text": [
      "Cost of epoch 51: 0.30608\n",
      "Cost of epoch 102: 0.28402\n",
      "Cost of epoch 153: 0.26676\n",
      "Cost of epoch 204: 0.24842\n",
      "Cost of epoch 255: 0.23551\n",
      "Cost of epoch 306: 0.22154\n",
      "Cost of epoch 357: 0.20336\n",
      "Cost of epoch 408: 0.19686\n",
      "Cost of epoch 459: 0.18296\n",
      "Cost of epoch 510: 0.17893\n",
      "Cost of epoch 512: 0.17791\n"
     ]
    }
   ],
   "source": [
    "# create NN\n",
    "digits = network.Network()\n",
    "digits.add_layer(layers.Dense(num_nodes=32, activation=activations.ReLU(), regularizer=regularizers.L2(lmbda=0.7)))\n",
    "digits.add_layer(layers.Dense(num_nodes=1, activation=activations.Sigmoid(), regularizer=regularizers.L2(lmbda=0.7)))\n",
    "\n",
    "# configure\n",
    "digits.configure_network(\n",
    "    input_layer_size=train_x.shape[0],\n",
    "    cost_func=costs.MSE(),\n",
    "    optimizer=optimizers.SGD(),\n",
    ")\n",
    "\n",
    "# train\n",
    "digits.train(train_x, train_y, learning_rate=0.02, epochs=512, verbose=True)\n",
    "\n",
    "# save parameters to json file\n",
    "# digits.write_parameters(name='cats_demo_params.json', dir='')"
   ]
  },
  {
   "cell_type": "code",
   "execution_count": 4,
   "id": "8fe37838-46cb-47c0-99c0-d5b95c13348c",
   "metadata": {},
   "outputs": [
    {
     "name": "stdout",
     "output_type": "stream",
     "text": [
      "+------------+------------+\n",
      "| Layer Type | Parameters |\n",
      "+------------+------------+\n",
      "|   Dense    |   393248   |\n",
      "|   Dense    |     33     |\n",
      "+------------+------------+\n",
      "Total Parameters: 393281\n",
      "\n",
      "Training Accuracy: 0.9330143540669856\n",
      "Testing Accuracy: 0.84\n"
     ]
    }
   ],
   "source": [
    "# summary\n",
    "digits.network_summary()\n",
    "\n",
    "# accuracy\n",
    "pred_train = digits.predict(train_x)\n",
    "print('\\nTraining Accuracy:', utils.evaluate_accuracy(pred_train, train_y))\n",
    "pred_test = digits.predict(test_x)\n",
    "print('Testing Accuracy:', utils.evaluate_accuracy(pred_test, test_y))"
   ]
  }
 ],
 "metadata": {
  "kernelspec": {
   "display_name": "Python 3 (ipykernel)",
   "language": "python",
   "name": "python3"
  },
  "language_info": {
   "codemirror_mode": {
    "name": "ipython",
    "version": 3
   },
   "file_extension": ".py",
   "mimetype": "text/x-python",
   "name": "python",
   "nbconvert_exporter": "python",
   "pygments_lexer": "ipython3",
   "version": "3.12.1"
  }
 },
 "nbformat": 4,
 "nbformat_minor": 5
}
